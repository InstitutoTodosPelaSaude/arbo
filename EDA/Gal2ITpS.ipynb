{
 "cells": [
  {
   "cell_type": "markdown",
   "metadata": {},
   "source": [
    "## ETL Gal data into combined format"
   ]
  },
  {
   "cell_type": "code",
   "execution_count": 2,
   "metadata": {},
   "outputs": [],
   "source": [
    "## Libs \n",
    "import pandas as pd"
   ]
  },
  {
   "cell_type": "code",
   "execution_count": 15,
   "metadata": {},
   "outputs": [
    {
     "data": {
      "text/plain": [
       "'/Users/bragatte/Documents/GitHub/arbo/EDA'"
      ]
     },
     "execution_count": 15,
     "metadata": {},
     "output_type": "execute_result"
    }
   ],
   "source": [
    "pwd"
   ]
  },
  {
   "cell_type": "code",
   "execution_count": 14,
   "metadata": {},
   "outputs": [],
   "source": [
    "## read files combined_arbo.xlsx and gal_am_12_12_23.txt \n",
    "### ITpS\n",
    "combined_arbo = pd.read_excel('combined_arbo.xlsx')\n",
    "### GAL\n",
    "gal_am_12_12_23 = pd.read_csv('gal_am_12_12_23', sep=';')"
   ]
  },
  {
   "cell_type": "code",
   "execution_count": 7,
   "metadata": {},
   "outputs": [
    {
     "name": "stdout",
     "output_type": "stream",
     "text": [
      "Index(['lab_id', 'sample_id', 'test_id', 'test_kit', 'gender', 'age',\n",
      "       'location', 'date_testing', 'state', 'patient_id', 'file_name',\n",
      "       'denv_test_result', 'zikv_test_result', 'chikv_test_result',\n",
      "       'yfv_test_result', 'mayv_test_result', 'orov_test_result',\n",
      "       'wnv_test_result', 'qty_original_lines', 'created_at', 'updated_at',\n",
      "       'age_group', 'epiweek', 'month', 'country', 'region', 'macroregion',\n",
      "       'macroregion_code', 'state_code', 'state_ibge_code',\n",
      "       'location_ibge_code', 'lat', 'long'],\n",
      "      dtype='object')\n"
     ]
    }
   ],
   "source": [
    "## Check structure of files\n",
    "### ITpS\n",
    "# print(combined_arbo.head())\n",
    "## list of columns\n",
    "print(combined_arbo.columns)"
   ]
  },
  {
   "cell_type": "code",
   "execution_count": 18,
   "metadata": {},
   "outputs": [
    {
     "name": "stdout",
     "output_type": "stream",
     "text": [
      "Index(['Unnamed: 0', 'requisicao', 'setor', 'bancada', 'mun_residencia',\n",
      "       'uf_residencia', 'requisitante', 'mun_requisitante', 'exame', 'metodo',\n",
      "       'material', 'cod_amostra', 'amostra', 'restricao',\n",
      "       'laboratorio_cadastro', 'dt_cadastro', 'dt_recebimento', 'dt_liberacao',\n",
      "       'tempo_liberacao', 'laboratorio_executor', 'status_exame', 'resultado'],\n",
      "      dtype='object')\n"
     ]
    }
   ],
   "source": [
    "## Check structure of files\n",
    "### GAL\n",
    "# print(gal_am_12_12_23.head())\n",
    "## list of columns\n",
    "print(gal_am_12_12_23.columns)"
   ]
  },
  {
   "cell_type": "code",
   "execution_count": null,
   "metadata": {},
   "outputs": [],
   "source": [
    "## compare both datasets to check specific dtypes  \n"
   ]
  }
 ],
 "metadata": {
  "kernelspec": {
   "display_name": "demo",
   "language": "python",
   "name": "python3"
  },
  "language_info": {
   "codemirror_mode": {
    "name": "ipython",
    "version": 3
   },
   "file_extension": ".py",
   "mimetype": "text/x-python",
   "name": "python",
   "nbconvert_exporter": "python",
   "pygments_lexer": "ipython3",
   "version": "3.8.16"
  }
 },
 "nbformat": 4,
 "nbformat_minor": 2
}
