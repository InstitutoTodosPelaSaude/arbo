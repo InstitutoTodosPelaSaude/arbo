{
 "cells": [
  {
   "cell_type": "markdown",
   "metadata": {},
   "source": [
    "# ETL gal data for ITpS analyses"
   ]
  },
  {
   "cell_type": "code",
   "execution_count": 4,
   "metadata": {},
   "outputs": [],
   "source": [
    "## Libs \n",
    "import pandas as pd\n",
    "import hashlib\n",
    "from epiweeks import Week, Year\n"
   ]
  },
  {
   "cell_type": "code",
   "execution_count": 12,
   "metadata": {},
   "outputs": [
    {
     "data": {
      "text/plain": [
       "'/Users/bragatte/Documents/GitHub/arbo'"
      ]
     },
     "execution_count": 12,
     "metadata": {},
     "output_type": "execute_result"
    }
   ],
   "source": [
    "# pwd"
   ]
  },
  {
   "cell_type": "code",
   "execution_count": 13,
   "metadata": {},
   "outputs": [],
   "source": [
    "## read files combined_arbo.xlsx and gal_am_12_12_23.txt \n",
    "### ITpS\n",
    "combined_arbo = pd.read_excel('EDA/data/combined/combined_arbo.xlsx')\n",
    "### GAL\n",
    "gal_am_12_12_23 = pd.read_csv('EDA/data/cglab/gal_am_12_12_23', sep=';')"
   ]
  },
  {
   "cell_type": "code",
   "execution_count": 7,
   "metadata": {},
   "outputs": [
    {
     "name": "stdout",
     "output_type": "stream",
     "text": [
      "     lab_id                         sample_id             test_id  \\\n",
      "0  EINSTEIN  00007d978f767d3e5e78646ff0214a97  000002022356010666   \n",
      "1  EINSTEIN  0000fc550dc879819f58d15bff2dce85  000002023280006519   \n",
      "2  EINSTEIN  000288fa9a10907547856f9169a35a93  000002023325009566   \n",
      "3  EINSTEIN  0004593b7fd083f1e9fd5d3f489300ad  000002022157012714   \n",
      "4  EINSTEIN  0006cc6607014fd4b1f36342ce593b67  000002023029005148   \n",
      "\n",
      "      test_kit gender   age   location date_testing      state patient_id  \\\n",
      "0    igm_serum      M  44.0  SAO PAULO   2022-12-22  SAO PAULO        NaN   \n",
      "1    igg_serum      F   5.0  SAO PAULO   2023-10-07  SAO PAULO        NaN   \n",
      "2    igg_serum      F  49.0  SAO PAULO   2023-11-21  SAO PAULO        NaN   \n",
      "3    igm_serum      F  15.0  SAO PAULO   2022-06-06  SAO PAULO        NaN   \n",
      "4  ns1_antigen      M  19.0  SAO PAULO   2023-01-29  SAO PAULO        NaN   \n",
      "\n",
      "   ... month country   region macroregion macroregion_code state_code  \\\n",
      "0  ...    12  BRASIL  SUDESTE       RRAS6           3521.0         SP   \n",
      "1  ...    10  BRASIL  SUDESTE       RRAS6           3521.0         SP   \n",
      "2  ...    11  BRASIL  SUDESTE       RRAS6           3521.0         SP   \n",
      "3  ...     6  BRASIL  SUDESTE       RRAS6           3521.0         SP   \n",
      "4  ...     1  BRASIL  SUDESTE       RRAS6           3521.0         SP   \n",
      "\n",
      "  state_ibge_code location_ibge_code       lat       long  \n",
      "0            35.0          3550308.0 -23.65008 -46.648097  \n",
      "1            35.0          3550308.0 -23.65008 -46.648097  \n",
      "2            35.0          3550308.0 -23.65008 -46.648097  \n",
      "3            35.0          3550308.0 -23.65008 -46.648097  \n",
      "4            35.0          3550308.0 -23.65008 -46.648097  \n",
      "\n",
      "[5 rows x 33 columns]\n",
      "Index(['lab_id', 'sample_id', 'test_id', 'test_kit', 'gender', 'age',\n",
      "       'location', 'date_testing', 'state', 'patient_id', 'file_name',\n",
      "       'denv_test_result', 'zikv_test_result', 'chikv_test_result',\n",
      "       'yfv_test_result', 'mayv_test_result', 'orov_test_result',\n",
      "       'wnv_test_result', 'qty_original_lines', 'created_at', 'updated_at',\n",
      "       'age_group', 'epiweek', 'month', 'country', 'region', 'macroregion',\n",
      "       'macroregion_code', 'state_code', 'state_ibge_code',\n",
      "       'location_ibge_code', 'lat', 'long'],\n",
      "      dtype='object')\n"
     ]
    }
   ],
   "source": [
    "## Check structure of files\n",
    "### ITpS\n",
    "print(combined_arbo.head())\n",
    "## list of columns\n",
    "print(combined_arbo.columns)"
   ]
  },
  {
   "cell_type": "code",
   "execution_count": 14,
   "metadata": {},
   "outputs": [
    {
     "name": "stdout",
     "output_type": "stream",
     "text": [
      "   Unnamed: 0    requisicao                          setor  \\\n",
      "0           1  230049002412  GDI - Diagnóstico Imunológico   \n",
      "1           2  230049002413  GDI - Diagnóstico Imunológico   \n",
      "2           3  230049002414  GDI - Diagnóstico Imunológico   \n",
      "3           4  230049002415  GDI - Diagnóstico Imunológico   \n",
      "4           5  230049002416  GDI - Diagnóstico Imunológico   \n",
      "\n",
      "              bancada mun_residencia uf_residencia       requisitante  \\\n",
      "0  Dengue - Sorologia         MANAUS            AM  UPA CAMPOS SALLES   \n",
      "1  Dengue - Sorologia         MANAUS            AM  UPA CAMPOS SALLES   \n",
      "2  Dengue - Sorologia         MANAUS            AM  UPA CAMPOS SALLES   \n",
      "3  Dengue - Sorologia         MANAUS            AM  UPA CAMPOS SALLES   \n",
      "4  Dengue - Sorologia         MANAUS            AM  UPA CAMPOS SALLES   \n",
      "\n",
      "  mun_requisitante                             exame             metodo  ...  \\\n",
      "0           MANAUS  Dengue, Detecção de Antígeno NS1  Enzimaimunoensaio  ...   \n",
      "1           MANAUS  Dengue, Detecção de Antígeno NS1  Enzimaimunoensaio  ...   \n",
      "2           MANAUS  Dengue, Detecção de Antígeno NS1  Enzimaimunoensaio  ...   \n",
      "3           MANAUS  Dengue, Detecção de Antígeno NS1  Enzimaimunoensaio  ...   \n",
      "4           MANAUS  Dengue, Detecção de Antígeno NS1  Enzimaimunoensaio  ...   \n",
      "\n",
      "  amostra  restricao  laboratorio_cadastro          dt_cadastro  \\\n",
      "0       1        NaN     UPA CAMPOS SALLES  02/10/2023 10:49:24   \n",
      "1       1        NaN     UPA CAMPOS SALLES  02/10/2023 10:51:50   \n",
      "2       1        NaN     UPA CAMPOS SALLES  02/10/2023 11:00:06   \n",
      "3       1        NaN     UPA CAMPOS SALLES  02/10/2023 11:01:55   \n",
      "4       1        NaN     UPA CAMPOS SALLES  02/10/2023 11:03:34   \n",
      "\n",
      "        dt_recebimento         dt_liberacao tempo_liberacao  \\\n",
      "0  09/10/2023 14:06:59  11/10/2023 14:20:05             2.0   \n",
      "1  09/10/2023 14:06:59  11/10/2023 14:20:07             2.0   \n",
      "2  09/10/2023 14:06:59  11/10/2023 14:20:07             2.0   \n",
      "3  09/10/2023 14:06:59  11/10/2023 14:20:06             2.0   \n",
      "4  09/10/2023 14:06:59  11/10/2023 14:20:06             2.0   \n",
      "\n",
      "                              laboratorio_executor        status_exame  \\\n",
      "0  LABORATÓRIO CENTRAL DE SAÚDE PÚBLICA - LACEN AM  Resultado Liberado   \n",
      "1  LABORATÓRIO CENTRAL DE SAÚDE PÚBLICA - LACEN AM  Resultado Liberado   \n",
      "2  LABORATÓRIO CENTRAL DE SAÚDE PÚBLICA - LACEN AM  Resultado Liberado   \n",
      "3  LABORATÓRIO CENTRAL DE SAÚDE PÚBLICA - LACEN AM  Resultado Liberado   \n",
      "4  LABORATÓRIO CENTRAL DE SAÚDE PÚBLICA - LACEN AM  Resultado Liberado   \n",
      "\n",
      "       resultado  \n",
      "0  Não Reagente   \n",
      "1  Não Reagente   \n",
      "2  Não Reagente   \n",
      "3  Não Reagente   \n",
      "4  Não Reagente   \n",
      "\n",
      "[5 rows x 22 columns]\n",
      "Index(['Unnamed: 0', 'requisicao', 'setor', 'bancada', 'mun_residencia',\n",
      "       'uf_residencia', 'requisitante', 'mun_requisitante', 'exame', 'metodo',\n",
      "       'material', 'cod_amostra', 'amostra', 'restricao',\n",
      "       'laboratorio_cadastro', 'dt_cadastro', 'dt_recebimento', 'dt_liberacao',\n",
      "       'tempo_liberacao', 'laboratorio_executor', 'status_exame', 'resultado'],\n",
      "      dtype='object')\n"
     ]
    }
   ],
   "source": [
    "## Check structure of files\n",
    "### GAL\n",
    "print(gal_am_12_12_23.head())\n",
    "## list of columns\n",
    "print(gal_am_12_12_23.columns)"
   ]
  },
  {
   "cell_type": "markdown",
   "metadata": {},
   "source": [
    "## MAP columns and variables"
   ]
  },
  {
   "cell_type": "code",
   "execution_count": 15,
   "metadata": {},
   "outputs": [],
   "source": [
    "## Create a new DataFrame with the same columns as combined_arbo\n",
    "## Initially, all columns are empty\n",
    "combined_structure_columns = [\n",
    "    'lab_id', 'sample_id', 'test_id', 'test_kit', 'gender', 'age',\n",
    "    'location', 'date_testing', 'state', 'patient_id', 'file_name',\n",
    "    'denv_test_result', 'zikv_test_result', 'chikv_test_result',\n",
    "    'yfv_test_result', 'mayv_test_result', 'orov_test_result',\n",
    "    'wnv_test_result', 'qty_original_lines', 'created_at', 'updated_at',\n",
    "    'age_group', 'epiweek', 'month', 'country', 'region', 'macroregion',\n",
    "    'macroregion_code', 'state_code', 'state_ibge_code',\n",
    "    'location_ibge_code', 'lat', 'long'\n",
    "]\n",
    "new_df = pd.DataFrame(columns=combined_structure_columns)\n",
    "\n",
    "## Populate columns according to instructions\n",
    "new_df['lab_id'] = 'CGLAB'  # Fixed value\n",
    "new_df['test_id'] = gal_am_12_12_23['cod_amostra']\n",
    "new_df['test_kit'] = gal_am_12_12_23['exame'].replace({'Dengue, Detecção de Antígeno NS1': 'ns1_antigen'})\n",
    "new_df['location'] = gal_am_12_12_23['mun_residencia']\n",
    "new_df['state_code'] = gal_am_12_12_23['uf_residencia']\n",
    "new_df['date_testing'] = pd.to_datetime(gal_am_12_12_23['dt_cadastro'], format='%d/%m/%Y %H:%M:%S')\n",
    "new_df['denv_test_result'] = gal_am_12_12_23['resultado'].apply(\n",
    "    lambda x: 'Pos' if x.strip() == 'Reagente' else \n",
    "    ('Neg' if x.strip() == 'Não Reagente' else 'NT')\n",
    ")\n",
    "\n",
    "def date_to_epiweek(date):\n",
    "    \"\"\"\n",
    "    Convert a date to an epidemiological week.\n",
    "    \n",
    "    :param date: Date to be converted.\n",
    "    :return: A string representing the epidemiological week.\n",
    "    \"\"\"\n",
    "    try:\n",
    "        date = pd.to_datetime(date)\n",
    "        epiweek = Week.fromdate(date, system=\"cdc\")\n",
    "        return str(epiweek)\n",
    "    except:\n",
    "        # Return None or some default value if the date is invalid\n",
    "        return None\n",
    "\n",
    "# Apply the function to the date_testing column\n",
    "new_df['epiweek'] = new_df['date_testing'].apply(date_to_epiweek)\n",
    "\n",
    "## Generate hash for sample_id based on specific columns of gal_am_12_12_23\n",
    "def generate_hash(row):\n",
    "    hash_input = str(row['requisicao']) + str(row['cod_amostra'])\n",
    "    return hashlib.sha1(hash_input.encode('utf-8')).hexdigest()\n",
    "\n",
    "## Applying the hash generation function for the sample_id column\n",
    "new_df['sample_id'] = gal_am_12_12_23.apply(generate_hash, axis=1)\n",
    "\n",
    "## Save the transformed DataFrame to a TSV file\n",
    "tsv_file_path = 'EDA/results/combined_arbo_gal.tsv'\n",
    "new_df.to_csv(tsv_file_path, sep='\\t', index=False)"
   ]
  }
 ],
 "metadata": {
  "kernelspec": {
   "display_name": "demo",
   "language": "python",
   "name": "python3"
  },
  "language_info": {
   "codemirror_mode": {
    "name": "ipython",
    "version": 3
   },
   "file_extension": ".py",
   "mimetype": "text/x-python",
   "name": "python",
   "nbconvert_exporter": "python",
   "pygments_lexer": "ipython3",
   "version": "3.8.16"
  }
 },
 "nbformat": 4,
 "nbformat_minor": 2
}
