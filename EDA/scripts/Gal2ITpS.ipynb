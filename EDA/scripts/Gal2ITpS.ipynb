{
 "cells": [
  {
   "cell_type": "code",
   "execution_count": 3,
   "metadata": {},
   "outputs": [],
   "source": [
    "## Libs \n",
    "import pandas as pd\n",
    "import hashlib"
   ]
  },
  {
   "cell_type": "code",
   "execution_count": 6,
   "metadata": {},
   "outputs": [],
   "source": [
    "## read files combined_arbo.xlsx and gal_am_12_12_23.txt \n",
    "### ITpS\n",
    "combined_arbo = pd.read_excel('EDA/data/combined/combined_arbo.xlsx')\n",
    "### GAL\n",
    "gal_am_12_12_23 = pd.read_csv('EDA/data/cglab/gal_am_12_12_23', sep=';')"
   ]
  },
  {
   "cell_type": "code",
   "execution_count": 7,
   "metadata": {},
   "outputs": [
    {
     "name": "stdout",
     "output_type": "stream",
     "text": [
      "     lab_id                         sample_id             test_id  \\\n",
      "0  EINSTEIN  00007d978f767d3e5e78646ff0214a97  000002022356010666   \n",
      "1  EINSTEIN  0000fc550dc879819f58d15bff2dce85  000002023280006519   \n",
      "2  EINSTEIN  000288fa9a10907547856f9169a35a93  000002023325009566   \n",
      "3  EINSTEIN  0004593b7fd083f1e9fd5d3f489300ad  000002022157012714   \n",
      "4  EINSTEIN  0006cc6607014fd4b1f36342ce593b67  000002023029005148   \n",
      "\n",
      "      test_kit gender   age   location date_testing      state patient_id  \\\n",
      "0    igm_serum      M  44.0  SAO PAULO   2022-12-22  SAO PAULO        NaN   \n",
      "1    igg_serum      F   5.0  SAO PAULO   2023-10-07  SAO PAULO        NaN   \n",
      "2    igg_serum      F  49.0  SAO PAULO   2023-11-21  SAO PAULO        NaN   \n",
      "3    igm_serum      F  15.0  SAO PAULO   2022-06-06  SAO PAULO        NaN   \n",
      "4  ns1_antigen      M  19.0  SAO PAULO   2023-01-29  SAO PAULO        NaN   \n",
      "\n",
      "   ... month country   region macroregion macroregion_code state_code  \\\n",
      "0  ...    12  BRASIL  SUDESTE       RRAS6           3521.0         SP   \n",
      "1  ...    10  BRASIL  SUDESTE       RRAS6           3521.0         SP   \n",
      "2  ...    11  BRASIL  SUDESTE       RRAS6           3521.0         SP   \n",
      "3  ...     6  BRASIL  SUDESTE       RRAS6           3521.0         SP   \n",
      "4  ...     1  BRASIL  SUDESTE       RRAS6           3521.0         SP   \n",
      "\n",
      "  state_ibge_code location_ibge_code       lat       long  \n",
      "0            35.0          3550308.0 -23.65008 -46.648097  \n",
      "1            35.0          3550308.0 -23.65008 -46.648097  \n",
      "2            35.0          3550308.0 -23.65008 -46.648097  \n",
      "3            35.0          3550308.0 -23.65008 -46.648097  \n",
      "4            35.0          3550308.0 -23.65008 -46.648097  \n",
      "\n",
      "[5 rows x 33 columns]\n",
      "Index(['lab_id', 'sample_id', 'test_id', 'test_kit', 'gender', 'age',\n",
      "       'location', 'date_testing', 'state', 'patient_id', 'file_name',\n",
      "       'denv_test_result', 'zikv_test_result', 'chikv_test_result',\n",
      "       'yfv_test_result', 'mayv_test_result', 'orov_test_result',\n",
      "       'wnv_test_result', 'qty_original_lines', 'created_at', 'updated_at',\n",
      "       'age_group', 'epiweek', 'month', 'country', 'region', 'macroregion',\n",
      "       'macroregion_code', 'state_code', 'state_ibge_code',\n",
      "       'location_ibge_code', 'lat', 'long'],\n",
      "      dtype='object')\n"
     ]
    }
   ],
   "source": [
    "## Check structure of files\n",
    "### ITpS\n",
    "print(combined_arbo.head())\n",
    "## list of columns\n",
    "print(combined_arbo.columns)"
   ]
  },
  {
   "cell_type": "code",
   "execution_count": 21,
   "metadata": {},
   "outputs": [
    {
     "ename": "NameError",
     "evalue": "name 'gal_am_12_12_23' is not defined",
     "output_type": "error",
     "traceback": [
      "\u001b[0;31m---------------------------------------------------------------------------\u001b[0m",
      "\u001b[0;31mNameError\u001b[0m                                 Traceback (most recent call last)",
      "\u001b[1;32m/Users/bragatte/Documents/GitHub/arbo/EDA/scripts/Gal2ITpS.ipynb Célula 4\u001b[0m line \u001b[0;36m3\n\u001b[1;32m      <a href='vscode-notebook-cell:/Users/bragatte/Documents/GitHub/arbo/EDA/scripts/Gal2ITpS.ipynb#X31sZmlsZQ%3D%3D?line=0'>1</a>\u001b[0m \u001b[39m## Check structure of files\u001b[39;00m\n\u001b[1;32m      <a href='vscode-notebook-cell:/Users/bragatte/Documents/GitHub/arbo/EDA/scripts/Gal2ITpS.ipynb#X31sZmlsZQ%3D%3D?line=1'>2</a>\u001b[0m \u001b[39m### GAL\u001b[39;00m\n\u001b[0;32m----> <a href='vscode-notebook-cell:/Users/bragatte/Documents/GitHub/arbo/EDA/scripts/Gal2ITpS.ipynb#X31sZmlsZQ%3D%3D?line=2'>3</a>\u001b[0m \u001b[39mprint\u001b[39m(gal_am_12_12_23\u001b[39m.\u001b[39mhead())\n\u001b[1;32m      <a href='vscode-notebook-cell:/Users/bragatte/Documents/GitHub/arbo/EDA/scripts/Gal2ITpS.ipynb#X31sZmlsZQ%3D%3D?line=3'>4</a>\u001b[0m \u001b[39m## list of columns\u001b[39;00m\n\u001b[1;32m      <a href='vscode-notebook-cell:/Users/bragatte/Documents/GitHub/arbo/EDA/scripts/Gal2ITpS.ipynb#X31sZmlsZQ%3D%3D?line=4'>5</a>\u001b[0m \u001b[39mprint\u001b[39m(gal_am_12_12_23\u001b[39m.\u001b[39mcolumns)\n",
      "\u001b[0;31mNameError\u001b[0m: name 'gal_am_12_12_23' is not defined"
     ]
    }
   ],
   "source": [
    "## Check structure of files\n",
    "### GAL\n",
    "print(gal_am_12_12_23.head())\n",
    "## list of columns\n",
    "print(gal_am_12_12_23.columns)"
   ]
  },
  {
   "cell_type": "markdown",
   "metadata": {},
   "source": [
    "## Map columns"
   ]
  },
  {
   "cell_type": "code",
   "execution_count": 9,
   "metadata": {},
   "outputs": [],
   "source": [
    "## Create a new DataFrame with the same columns as combined_arbo\n",
    "## Initially, all columns are empty\n",
    "combined_structure_columns = [\n",
    "    'lab_id', 'sample_id', 'test_id', 'test_kit', 'gender', 'age',\n",
    "    'location', 'date_testing', 'state', 'patient_id', 'file_name',\n",
    "    'denv_test_result', 'zikv_test_result', 'chikv_test_result',\n",
    "    'yfv_test_result', 'mayv_test_result', 'orov_test_result',\n",
    "    'wnv_test_result', 'qty_original_lines', 'created_at', 'updated_at',\n",
    "    'age_group', 'epiweek', 'month', 'country', 'region', 'macroregion',\n",
    "    'macroregion_code', 'state_code', 'state_ibge_code',\n",
    "    'location_ibge_code', 'lat', 'long'\n",
    "]\n",
    "new_df = pd.DataFrame(columns=combined_structure_columns)\n",
    "\n",
    "## Populate columns according to instructions\n",
    "new_df['lab_id'] = 'CGLAB'  # Fixed value\n",
    "new_df['test_id'] = gal_am_12_12_23['cod_amostra']\n",
    "new_df['test_kit'] = gal_am_12_12_23['exame'].replace({'Dengue, Detecção de Antígeno NS1': 'NS1_antigen'})\n",
    "new_df['location'] = gal_am_12_12_23['mun_residencia']\n",
    "new_df['state_code'] = gal_am_12_12_23['uf_residencia']\n",
    "new_df['date_testing'] = pd.to_datetime(gal_am_12_12_23['dt_cadastro'], format='%d/%m/%Y %H:%M:%S')\n",
    "new_df['denv_test_result'] = gal_am_12_12_23['resultado'].replace({'Reagente': 'Pos', 'Não Reagente': 'Neg'})\n",
    "\n",
    "## Generate hash for sample_id based on specific columns of gal_am_12_12_23\n",
    "def generate_hash(row):\n",
    "    hash_input = str(row['requisicao']) + str(row['cod_amostra'])\n",
    "    return hashlib.sha256(hash_input.encode()).hexdigest()\n",
    "\n",
    "## Applying the hash generation function for the sample_id column\n",
    "new_df['sample_id'] = gal_am_12_12_23.apply(generate_hash, axis=1)\n",
    "\n",
    "## Save the transformed DataFrame to a TSV file\n",
    "tsv_file_path = 'EDA/results/combined_arbo_gal.tsv'\n",
    "new_df.to_csv(tsv_file_path, sep='\\t', index=False)\n"
   ]
  },
  {
   "cell_type": "code",
   "execution_count": 20,
   "metadata": {},
   "outputs": [
    {
     "ename": "NameError",
     "evalue": "name 'gal_am_12_12_23' is not defined",
     "output_type": "error",
     "traceback": [
      "\u001b[0;31m---------------------------------------------------------------------------\u001b[0m",
      "\u001b[0;31mNameError\u001b[0m                                 Traceback (most recent call last)",
      "\u001b[1;32m/Users/bragatte/Documents/GitHub/arbo/EDA/scripts/Gal2ITpS.ipynb Célula 7\u001b[0m line \u001b[0;36m1\n\u001b[0;32m----> <a href='vscode-notebook-cell:/Users/bragatte/Documents/GitHub/arbo/EDA/scripts/Gal2ITpS.ipynb#X34sZmlsZQ%3D%3D?line=0'>1</a>\u001b[0m \u001b[39mprint\u001b[39m(gal_am_12_12_23[\u001b[39m'\u001b[39m\u001b[39mresultado\u001b[39m\u001b[39m'\u001b[39m]\u001b[39m.\u001b[39munique())\n",
      "\u001b[0;31mNameError\u001b[0m: name 'gal_am_12_12_23' is not defined"
     ]
    }
   ],
   "source": [
    "print(gal_am_12_12_23['resultado'].unique())\n"
   ]
  }
 ],
 "metadata": {
  "kernelspec": {
   "display_name": "demo",
   "language": "python",
   "name": "python3"
  },
  "language_info": {
   "codemirror_mode": {
    "name": "ipython",
    "version": 3
   },
   "file_extension": ".py",
   "mimetype": "text/x-python",
   "name": "python",
   "nbconvert_exporter": "python",
   "pygments_lexer": "ipython3",
   "version": "3.8.16"
  }
 },
 "nbformat": 4,
 "nbformat_minor": 2
}
